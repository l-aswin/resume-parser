{
 "cells": [
  {
   "cell_type": "code",
   "execution_count": 70,
   "id": "298a8374-dd31-4ad9-9536-9ba48a9df446",
   "metadata": {},
   "outputs": [],
   "source": [
    "#import libraries\n",
    "import os\n",
    "from os import listdir\n",
    "from os.path import isfile, join\n",
    "from docx2python import docx2python\n",
    "import pymupdf,fitz\n",
    "import platform\n",
    "import spacy"
   ]
  },
  {
   "cell_type": "code",
   "execution_count": null,
   "id": "5678f166-fb0a-4418-86b7-4050276c265a",
   "metadata": {},
   "outputs": [],
   "source": [
    "#output json array\n"
   ]
  },
  {
   "cell_type": "code",
   "execution_count": 71,
   "id": "aa01a6c6-0129-4742-bc65-8b0f4bc31d22",
   "metadata": {},
   "outputs": [],
   "source": [
    "#nlp Processing\n",
    "nlp = spacy.load(\"en_core_web_lg\")\n",
    "#add pipeline\n",
    "ruler=nlp.add_pipe(\"entity_ruler\",before=\"ner\")\n",
    "#ruler pipeline add pattern\n",
    "skills = \"skill_pattern.jsonl\"\n",
    "ruler.from_disk(skills)\n",
    "def processTextUsingSpacy(inputText, fileName):\n",
    "    mobileNumber = ''\n",
    "    #re find(mobile-pattern)\n",
    "    #check list empty\n",
    "    #if not store mobile in variable\n",
    "    doc = nlp(inputText)\n",
    "    skills=set()\n",
    "    required_skill={'.NET', 'java','llm'}\n",
    "    detected_req_skill_count=0\n",
    "    name='empty'\n",
    "    email=''\n",
    "    \n",
    "    for ent in doc.ents:\n",
    "        #print('ent.label:', ent.label_, 'text:', ent.text)\n",
    "        if(ent.label_ == 'SKILL'):\n",
    "            skills.add(ent.text)\n",
    "        if (ent.label_ == 'EMAIL'):\n",
    "            email = ent.text.lower()\n",
    "            \n",
    "    for ent in doc.ents:\n",
    "        if (ent.label_ == 'PERSON'):\n",
    "            if(len(ent.text) > 4):\n",
    "                shortName = ent.text[:3].lower()\n",
    "                if(shortName in email):\n",
    "                    name = ent.text\n",
    "\n",
    "\n",
    "    for i in required_skill:\n",
    "        if i in skills:\n",
    "            detected_req_skill_count = detected_req_skill_count+1\n",
    "    print(\"------Resume NLP Output-------\")\n",
    "    print(name,'candidate skills:',skills)\n",
    "    print('required skills:',required_skill)\n",
    "    print('email:',email)\n",
    "    if detected_req_skill_count == len(required_skill):\n",
    "        print(name,' selected')\n",
    "    else:\n",
    "        print(name,' rejected')\n",
    "    #create a json string\n",
    "    #insert json string into array"
   ]
  },
  {
   "cell_type": "code",
   "execution_count": 68,
   "id": "8374218b-ab5d-4891-97be-5a491f8e6748",
   "metadata": {},
   "outputs": [
    {
     "name": "stdout",
     "output_type": "stream",
     "text": [
      "Total Number of resumes to be processed: 2\n",
      "------Resume NLP Output-------\n",
      "Aswin Loganathan candidate skills: {'java', '.NET'}\n",
      "required skills: {'java', 'llm', '.NET'}\n",
      "email: aswin.l@pixelexpert.net\n",
      "Aswin Loganathan  rejected\n",
      "------Resume NLP Output-------\n",
      "Jane Smith candidate skills: set()\n",
      "required skills: {'java', 'llm', '.NET'}\n",
      "email: janesmith@example.com\n",
      "Jane Smith  rejected\n"
     ]
    }
   ],
   "source": [
    "#clear jsonArray\n",
    "cwd = os.getcwd()\n",
    "path = os.path.join(cwd, \"resume\")\n",
    "fileList = [f for f in os.listdir(path)]\n",
    "print('Total Number of resumes to be processed:',len(fileList))\n",
    "for file in fileList:\n",
    "    if('.docx' in file):\n",
    "        # extract docx content\n",
    "        wordfile = os.path.join(cwd, \"resume\",file)\n",
    "        with docx2python(wordfile) as docx_content:\n",
    "            processTextUsingSpacy(docx_content.text, file)\n",
    "    if('.pdf' in file):\n",
    "        pdfFile = os.path.join(cwd, \"resume\",file)\n",
    "        doc=fitz.open(pdfFile)\n",
    "        text=\"\"\n",
    "        for page in doc:\n",
    "            text = text+str(page.get_text())\n",
    "        tx =\"\".join(text.split(\"\\n\"))\n",
    "        doc.close()       \n",
    "        processTextUsingSpacy(tx,file)\n"
   ]
  },
  {
   "cell_type": "code",
   "execution_count": null,
   "id": "acbf7cb3-ff81-4024-84d9-91f8ba4911f5",
   "metadata": {},
   "outputs": [],
   "source": [
    "#Print user readable Results by parsing array of jsonString"
   ]
  }
 ],
 "metadata": {
  "kernelspec": {
   "display_name": "Python 3 (ipykernel)",
   "language": "python",
   "name": "python3"
  },
  "language_info": {
   "codemirror_mode": {
    "name": "ipython",
    "version": 3
   },
   "file_extension": ".py",
   "mimetype": "text/x-python",
   "name": "python",
   "nbconvert_exporter": "python",
   "pygments_lexer": "ipython3",
   "version": "3.11.9"
  }
 },
 "nbformat": 4,
 "nbformat_minor": 5
}
