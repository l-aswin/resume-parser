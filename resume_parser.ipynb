{
 "cells": [
  {
   "cell_type": "code",
   "execution_count": 9,
   "id": "298a8374-dd31-4ad9-9536-9ba48a9df446",
   "metadata": {},
   "outputs": [],
   "source": [
    "#import libraries\n",
    "import os\n",
    "from os import listdir\n",
    "from os.path import isfile, join\n",
    "from docx2python import docx2python\n",
    "import pymupdf,fitz\n",
    "import platform\n",
    "import spacy"
   ]
  },
  {
   "cell_type": "code",
   "execution_count": 10,
   "id": "5678f166-fb0a-4418-86b7-4050276c265a",
   "metadata": {},
   "outputs": [],
   "source": [
    "#output json array\n",
    "parserResults = []\n",
    "required_skill={'.net', 'java','llm'}"
   ]
  },
  {
   "cell_type": "code",
   "execution_count": 11,
   "id": "aa01a6c6-0129-4742-bc65-8b0f4bc31d22",
   "metadata": {},
   "outputs": [],
   "source": [
    "#load english language model\n",
    "nlp = spacy.load(\"en_core_web_lg\")\n",
    "#add pipeline\n",
    "ruler=nlp.add_pipe(\"entity_ruler\",before=\"ner\")\n",
    "skills = \"skill_pattern.jsonl\"\n",
    "ruler.from_disk(skills)\n",
    "\n",
    "def processTextUsingSpacy(inputText, fileName):\n",
    "    doc = nlp(inputText)\n",
    "    skills=set()\n",
    "    detected_req_skill_count=0\n",
    "    name=''\n",
    "    email=''\n",
    "    mobile = ''\n",
    "    \n",
    "    for ent in doc.ents:\n",
    "        #print('ent.label:', ent.label_, 'text:', ent.text)\n",
    "        if(ent.label_ == 'SKILL'):\n",
    "            skills.add(ent.text.lower())\n",
    "        if (ent.label_ == 'EMAIL'):\n",
    "            email = ent.text.lower()\n",
    "        if(ent.label_ == 'MOBILE'):\n",
    "            mobile = ent.text\n",
    "        if(ent.label_ == 'CARDINAL') and len(ent.text) == 10:\n",
    "            mobile = ent.text\n",
    "        if (ent.label_ == 'DATE') and len(ent.text) == 10:\n",
    "            mobile = ent.text\n",
    "            \n",
    "    for ent in doc.ents:\n",
    "        if (ent.label_ == 'PERSON'):\n",
    "            if(len(ent.text) > 4):\n",
    "                shortName = ent.text[:3].lower()\n",
    "                if(shortName in email):\n",
    "                    name = ent.text\n",
    "                    \n",
    "    candidateSelected = True\n",
    "    for x in required_skill:\n",
    "        if(not x in skills):\n",
    "            candidateSelected = False  \n",
    "\n",
    "    json_object = {\n",
    "        \"name\": name,\n",
    "        \"emailid\":email,\n",
    "        \"mobile\":mobile,\n",
    "        \"status\":candidateSelected,\n",
    "        \"skills\":skills,\n",
    "        \"file\":fileName\n",
    "    }\n",
    "    parserResults.append(json_object)"
   ]
  },
  {
   "cell_type": "code",
   "execution_count": 13,
   "id": "8374218b-ab5d-4891-97be-5a491f8e6748",
   "metadata": {},
   "outputs": [
    {
     "name": "stdout",
     "output_type": "stream",
     "text": [
      "Total Number of files in Resume folder: 3\n",
      "Total Number of resumes analyzed: 3\n"
     ]
    }
   ],
   "source": [
    "#clear stored results\n",
    "parserResults = []\n",
    "#get list of files in resume folder\n",
    "cwd = os.getcwd()\n",
    "path = os.path.join(cwd, \"resume\")\n",
    "fileList = [f for f in os.listdir(path)]\n",
    "print('Total Number of files in Resume folder:',len(fileList))\n",
    "count=0\n",
    "#convert word or pdf to text and process text using spacy nlp library\n",
    "for file in fileList:\n",
    "    if('.docx' in file):\n",
    "        # extract docx content\n",
    "        wordfile = os.path.join(cwd, \"resume\",file)\n",
    "        with docx2python(wordfile) as docx_content:\n",
    "            processTextUsingSpacy(docx_content.text, file)\n",
    "        count+=1\n",
    "    if('.pdf' in file):\n",
    "        pdfFile = os.path.join(cwd, \"resume\",file)\n",
    "        doc=fitz.open(pdfFile)\n",
    "        text=\"\"\n",
    "        for page in doc:\n",
    "            text = text+str(page.get_text())\n",
    "        tx =\"\".join(text.split(\"\\n\"))\n",
    "        doc.close()       \n",
    "        processTextUsingSpacy(tx,file)\n",
    "        count+=1\n",
    "print('Total Number of resumes analyzed:',count)\n"
   ]
  },
  {
   "cell_type": "code",
   "execution_count": 14,
   "id": "6cc24b49-2e38-4168-a98b-c53e22249a4d",
   "metadata": {},
   "outputs": [
    {
     "name": "stdout",
     "output_type": "stream",
     "text": [
      "\n",
      "\n",
      "\u001b[1m\u001b[94m------Resume:aswin_resume.docx  NLP Parser Output-------\u001b[0m\n",
      "Aswin Loganathan candidate skills: {'llm', '.net', 'java'}\n",
      "required skills: {'llm', 'java', '.net'}\n",
      "email: aswin.l@company.net\n",
      "mobile: 123 456 7890\n",
      "\u001b[1m\u001b[92mAswin Loganathan  selected\u001b[0m\n",
      "\n",
      "\n",
      "\u001b[1m\u001b[94m------Resume:Data Scientist.pdf  NLP Parser Output-------\u001b[0m\n",
      "Jane Smith  has none of required skills\n",
      "required skills: {'llm', 'java', '.net'}\n",
      "email: janesmith@example.com\n",
      "Mobile number not detected.\n",
      "\u001b[1m\u001b[91mJane Smith  rejected\u001b[0m\n",
      "\n",
      "\n",
      "\u001b[1m\u001b[94m------Resume:yuvaraj_resume.docx  NLP Parser Output-------\u001b[0m\n",
      " candidate skills: {'.net', 'java'}\n",
      "required skills: {'llm', 'java', '.net'}\n",
      "email: yuvaraj@company.net\n",
      "mobile: 875 456 7890\n",
      "\u001b[1m\u001b[91m  rejected\u001b[0m\n"
     ]
    }
   ],
   "source": [
    "for object in parserResults:\n",
    "    print(\"\\n\")\n",
    "    print('\\033[1m'+'\\033[94m'+\"------Resume:\"+object[\"file\"]+\"  NLP Parser Output-------\"+'\\033[0m')\n",
    "    if(len(object[\"skills\"]) > 0):\n",
    "        print(object[\"name\"],'candidate skills:',object[\"skills\"])\n",
    "    else:\n",
    "        print(object[\"name\"],\" has none of required skills\")\n",
    "    print('required skills:',required_skill)\n",
    "    print('email:',object[\"emailid\"])\n",
    "    if(object[\"mobile\"] == ''):\n",
    "        print(\"Mobile number not detected.\")\n",
    "    else:\n",
    "        print('mobile:', object[\"mobile\"])\n",
    "       \n",
    "    if object[\"status\"]:\n",
    "        print('\\033[1m'+'\\033[92m'+object[\"name\"],' selected'+'\\033[0m')\n",
    "    else:\n",
    "        print('\\033[1m'+'\\033[91m'+object[\"name\"],' rejected'+'\\033[0m')\n"
   ]
  },
  {
   "cell_type": "code",
   "execution_count": null,
   "id": "9af89938-3000-4e49-b04e-6f4b992fc722",
   "metadata": {},
   "outputs": [],
   "source": [
    "import json\n",
    "json.dumps(parserResults, default=tuple)"
   ]
  },
  {
   "cell_type": "code",
   "execution_count": null,
   "id": "0156471e-cf68-4775-9b12-c1e762fe3a50",
   "metadata": {},
   "outputs": [],
   "source": []
  }
 ],
 "metadata": {
  "kernelspec": {
   "display_name": "Python 3 (ipykernel)",
   "language": "python",
   "name": "python3"
  },
  "language_info": {
   "codemirror_mode": {
    "name": "ipython",
    "version": 3
   },
   "file_extension": ".py",
   "mimetype": "text/x-python",
   "name": "python",
   "nbconvert_exporter": "python",
   "pygments_lexer": "ipython3",
   "version": "3.11.9"
  }
 },
 "nbformat": 4,
 "nbformat_minor": 5
}
