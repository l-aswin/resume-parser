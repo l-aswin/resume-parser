{
 "cells": [
  {
   "cell_type": "code",
   "execution_count": 15,
   "id": "298a8374-dd31-4ad9-9536-9ba48a9df446",
   "metadata": {},
   "outputs": [],
   "source": [
    "#import libraries\n",
    "import os\n",
    "from os import listdir\n",
    "from os.path import isfile, join\n",
    "from docx2python import docx2python\n",
    "import pymupdf,fitz\n",
    "import platform\n",
    "import spacy"
   ]
  },
  {
   "cell_type": "code",
   "execution_count": 16,
   "id": "5678f166-fb0a-4418-86b7-4050276c265a",
   "metadata": {},
   "outputs": [],
   "source": [
    "#output json array\n"
   ]
  },
  {
   "cell_type": "code",
   "execution_count": 49,
   "id": "aa01a6c6-0129-4742-bc65-8b0f4bc31d22",
   "metadata": {},
   "outputs": [],
   "source": [
    "#nlp Processing\n",
    "nlp = spacy.load(\"en_core_web_lg\")\n",
    "#add pipeline\n",
    "ruler=nlp.add_pipe(\"entity_ruler\",before=\"ner\")\n",
    "#ruler pipeline add pattern\n",
    "skills = \"skill_pattern.jsonl\"\n",
    "ruler.from_disk(skills)\n",
    "def processTextUsingSpacy(inputText, fileName):\n",
    "    mobileNumber = ''\n",
    "    #re find(mobile-pattern)\n",
    "    #check list empty\n",
    "    #if not store mobile in variable\n",
    "    doc = nlp(inputText)\n",
    "    skills=set()\n",
    "    required_skill={'.net', 'java','llm'}\n",
    "    detected_req_skill_count=0\n",
    "    name='empty'\n",
    "    email=''\n",
    "    mobile = ''\n",
    "    \n",
    "    for ent in doc.ents:\n",
    "        #print('ent.label:', ent.label_, 'text:', ent.text)\n",
    "        if(ent.label_ == 'SKILL'):\n",
    "            skills.add(ent.text.lower())\n",
    "        if (ent.label_ == 'EMAIL'):\n",
    "            email = ent.text.lower()\n",
    "        if(ent.label_ == 'MOBILE'):\n",
    "            mobile = ent.text\n",
    "        if(ent.label_ == 'CARDINAL') and len(ent.text) == 10:\n",
    "            mobile = ent.text\n",
    "        if (ent.label_ == 'DATE') and len(ent.text) == 10:\n",
    "            mobile = ent.text\n",
    "            \n",
    "    for ent in doc.ents:\n",
    "        if (ent.label_ == 'PERSON'):\n",
    "            if(len(ent.text) > 4):\n",
    "                shortName = ent.text[:3].lower()\n",
    "                if(shortName in email):\n",
    "                    name = ent.text\n",
    "    print(\"\\n\")\n",
    "    print('\\033[1m'+'\\033[94m'+\"------Resume:\",fileName,\"NLP Parser Output-------\"+'\\033[0m')\n",
    "    if(len(skills) > 0):\n",
    "        print(name,'candidate skills:',skills)\n",
    "    else:\n",
    "        print(name,\" has none of required skills\")\n",
    "    print('required skills:',required_skill)\n",
    "    print('email:',email)\n",
    "    if(mobile == ''):\n",
    "        print(\"Mobile number not detected.\")\n",
    "    else:\n",
    "        print('mobile:', mobile)\n",
    "    candidateSelected = True\n",
    "    for x in required_skill:\n",
    "        if(not x in skills):\n",
    "            candidateSelected = False           \n",
    "    if candidateSelected:\n",
    "        print('\\033[1m'+'\\033[92m'+name,' selected'+'\\033[0m')\n",
    "    else:\n",
    "        print('\\033[1m'+'\\033[91m'+name,' rejected'+'\\033[0m')\n",
    "    #create a json string\n",
    "    #insert json string into array"
   ]
  },
  {
   "cell_type": "code",
   "execution_count": 50,
   "id": "8374218b-ab5d-4891-97be-5a491f8e6748",
   "metadata": {},
   "outputs": [
    {
     "name": "stdout",
     "output_type": "stream",
     "text": [
      "Total Number of resumes to be processed: 2\n",
      "\n",
      "\n",
      "\u001b[1m\u001b[94m------Resume: aswin_resume.docx NLP Parser Output-------\u001b[0m\n",
      "Aswin Loganathan candidate skills: {'.net', 'llm', 'java'}\n",
      "required skills: {'.net', 'llm', 'java'}\n",
      "email: aswin.l@company.net\n",
      "mobile: 123 456 7890\n",
      "\u001b[1m\u001b[92mAswin Loganathan  selected\u001b[0m\n",
      "\n",
      "\n",
      "\u001b[1m\u001b[94m------Resume: Data Scientist.pdf NLP Parser Output-------\u001b[0m\n",
      "Jane Smith  has none of required skills\n",
      "required skills: {'.net', 'llm', 'java'}\n",
      "email: janesmith@example.com\n",
      "Mobile number not detected.\n",
      "\u001b[1m\u001b[91mJane Smith  rejected\u001b[0m\n"
     ]
    }
   ],
   "source": [
    "#clear jsonArray\n",
    "cwd = os.getcwd()\n",
    "path = os.path.join(cwd, \"resume\")\n",
    "fileList = [f for f in os.listdir(path)]\n",
    "print('Total Number of resumes to be processed:',len(fileList))\n",
    "for file in fileList:\n",
    "    if('.docx' in file):\n",
    "        # extract docx content\n",
    "        wordfile = os.path.join(cwd, \"resume\",file)\n",
    "        with docx2python(wordfile) as docx_content:\n",
    "            processTextUsingSpacy(docx_content.text, file)\n",
    "    if('.pdf' in file):\n",
    "        pdfFile = os.path.join(cwd, \"resume\",file)\n",
    "        doc=fitz.open(pdfFile)\n",
    "        text=\"\"\n",
    "        for page in doc:\n",
    "            text = text+str(page.get_text())\n",
    "        tx =\"\".join(text.split(\"\\n\"))\n",
    "        doc.close()       \n",
    "        processTextUsingSpacy(tx,file)\n"
   ]
  },
  {
   "cell_type": "code",
   "execution_count": null,
   "id": "acbf7cb3-ff81-4024-84d9-91f8ba4911f5",
   "metadata": {},
   "outputs": [],
   "source": [
    "#Print user readable Results by parsing array of jsonString"
   ]
  }
 ],
 "metadata": {
  "kernelspec": {
   "display_name": "Python 3 (ipykernel)",
   "language": "python",
   "name": "python3"
  },
  "language_info": {
   "codemirror_mode": {
    "name": "ipython",
    "version": 3
   },
   "file_extension": ".py",
   "mimetype": "text/x-python",
   "name": "python",
   "nbconvert_exporter": "python",
   "pygments_lexer": "ipython3",
   "version": "3.11.9"
  }
 },
 "nbformat": 4,
 "nbformat_minor": 5
}
